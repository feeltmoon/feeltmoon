{
 "cells": [
  {
   "cell_type": "code",
   "execution_count": 123,
   "id": "f59023a7",
   "metadata": {},
   "outputs": [],
   "source": [
    "import pandas as pd\n",
    "import numpy as np\n",
    "\n",
    "df = pd.read_excel(r'G:\\WFH\\20211220\\ECS spec.xlsx', sheet_name='Sheet1')\n",
    "df1 = pd.read_excel(r'G:\\WFH\\20211220\\BGB-16673-102_V1.0.xlsx', sheet_name='CheckActions')"
   ]
  },
  {
   "cell_type": "code",
   "execution_count": 124,
   "id": "e99146b8",
   "metadata": {},
   "outputs": [],
   "source": [
    "pd.set_option('display.max_rows', 64)\n",
    "pd.set_option('display.max_columns', 85)"
   ]
  },
  {
   "cell_type": "code",
   "execution_count": 125,
   "id": "66b129f8",
   "metadata": {},
   "outputs": [],
   "source": [
    "df = pd.DataFrame(df,columns=['Version#','Serial #','CheckName','Folder OID','Form Name','Form OID','Field Label',\n",
    "                               'Field OID','Check Type'])"
   ]
  },
  {
   "cell_type": "code",
   "execution_count": 126,
   "id": "6aa077df",
   "metadata": {},
   "outputs": [],
   "source": [
    "df = df.rename(columns={\"Field OID\": \"FieldOID_spec\"})"
   ]
  },
  {
   "cell_type": "code",
   "execution_count": 127,
   "id": "37317d8e",
   "metadata": {},
   "outputs": [],
   "source": [
    "df1 = pd.DataFrame(df1,columns=['CheckName','FieldOID','ActionType'])"
   ]
  },
  {
   "cell_type": "code",
   "execution_count": 128,
   "id": "f9edc962",
   "metadata": {},
   "outputs": [],
   "source": [
    "df1 = df1.rename(columns={\"FieldOID\": \"FieldOID_als\"})"
   ]
  },
  {
   "cell_type": "code",
   "execution_count": 129,
   "id": "448ad72a",
   "metadata": {
    "scrolled": true
   },
   "outputs": [],
   "source": [
    "df = df[df['Check Type'] == 'Simple']\n",
    "#df"
   ]
  },
  {
   "cell_type": "code",
   "execution_count": 130,
   "id": "ed60f8ae",
   "metadata": {},
   "outputs": [],
   "source": [
    "join = pd.merge(df, df1, how='left', on=['CheckName'])\n",
    "#join"
   ]
  },
  {
   "cell_type": "code",
   "execution_count": 131,
   "id": "5eae8b7c",
   "metadata": {},
   "outputs": [],
   "source": [
    "join['IsEqual'] = (join['FieldOID_spec']==join['FieldOID_als'])\n",
    "#join"
   ]
  },
  {
   "cell_type": "code",
   "execution_count": 132,
   "id": "9ecb2e19",
   "metadata": {},
   "outputs": [],
   "source": [
    "join.to_excel(r'G:\\WFH\\20211220\\EC_Compare_FieldOIDinSpec_vs_FieldOIDinALS.xlsx')"
   ]
  },
  {
   "cell_type": "code",
   "execution_count": null,
   "id": "65273981",
   "metadata": {},
   "outputs": [],
   "source": []
  }
 ],
 "metadata": {
  "kernelspec": {
   "display_name": "Python 3",
   "language": "python",
   "name": "python3"
  },
  "language_info": {
   "codemirror_mode": {
    "name": "ipython",
    "version": 3
   },
   "file_extension": ".py",
   "mimetype": "text/x-python",
   "name": "python",
   "nbconvert_exporter": "python",
   "pygments_lexer": "ipython3",
   "version": "3.8.8"
  }
 },
 "nbformat": 4,
 "nbformat_minor": 5
}
